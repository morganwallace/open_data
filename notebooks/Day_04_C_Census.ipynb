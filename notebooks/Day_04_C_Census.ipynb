{
 "metadata": {
  "name": ""
 },
 "nbformat": 3,
 "nbformat_minor": 0,
 "worksheets": [
  {
   "cells": [
    {
     "cell_type": "code",
     "collapsed": false,
     "input": [
      "%pylab --no-import-all inline"
     ],
     "language": "python",
     "metadata": {},
     "outputs": [
      {
       "output_type": "stream",
       "stream": "stdout",
       "text": [
        "Populating the interactive namespace from numpy and matplotlib\n"
       ]
      }
     ],
     "prompt_number": 1
    },
    {
     "cell_type": "heading",
     "level": 1,
     "metadata": {},
     "source": [
      "Some Context"
     ]
    },
    {
     "cell_type": "markdown",
     "metadata": {},
     "source": [
      "The US Census is complex....so it's good, even essential, to have a framing question to guide your explorations so that you don't get distracted or lost.\n",
      "\n",
      "I got into thinking of the census in 2002 when I saw a woman I knew in the following SF Chronicle article: \n",
      "\n",
      "[Claremont-Elmwood / Homogeneity in Berkeley? Well, yeah - SFGate](http://www.sfgate.com/bayarea/article/Claremont-Elmwood-Homogeneity-in-Berkeley-3306778.php)\n",
      "\n",
      "I thought at that point it should be easy for regular people to do census calculations....\n",
      "\n",
      "In the summer of 2013, I wrote the following note to Greg Wilson about diversity calculations:\n",
      "\n",
      "[notes for Greg Wilson about an example Data Science Workflow](https://www.evernote.com/shard/s1/sh/b3f79cbc-c0c3-48a3-87b6-91da1b939783/1857ddee32d7baa04c55e629da05e0a7)\n",
      "\n",
      "There's a whole cottage industry in musing on \"diversity\" in the USA:\n",
      "\n",
      "* [The Most Diverse Cities In The US - Business Insider](http://www.businessinsider.com/the-most-diverse-cities-in-the-us-2013-7) -- using 4 categories:  Vallejo.\n",
      "\n",
      "* [Most And Least Diverse Cities: Brown University Study Evaluates Diversity In The U.S.](http://www.huffingtonpost.com/2012/09/07/most-least-diverse-cities-brown-university-study_n_1865715.html)\n",
      "\n",
      "* [The Top 10 Most Diverse Cities in America](http://www.cnbc.com/id/43066296) -- LA?\n",
      "\n",
      "and let's not forget the [Racial Dot Map](http://bit.ly/rdotmap) and [some background](http://bit.ly/rdotmapintro).\n"
     ]
    },
    {
     "cell_type": "code",
     "collapsed": false,
     "input": [
      "# Shows the version of pandas that we are using\n",
      "!pip show pandas"
     ],
     "language": "python",
     "metadata": {},
     "outputs": [
      {
       "output_type": "stream",
       "stream": "stdout",
       "text": [
        "---\r\n",
        "Name: pandas\r\n",
        "Version: 0.13.0\r\n",
        "Location: /Users/Morgan/anaconda/lib/python2.7/site-packages\r\n",
        "Requires: \r\n"
       ]
      }
     ],
     "prompt_number": 2
    },
    {
     "cell_type": "code",
     "collapsed": false,
     "input": [
      "#  import useful classes of pandas\n",
      "import numpy as np\n",
      "import pandas as pd\n",
      "from pandas import Series, DataFrame, Index"
     ],
     "language": "python",
     "metadata": {},
     "outputs": [],
     "prompt_number": 3
    },
    {
     "cell_type": "markdown",
     "metadata": {},
     "source": [
      "http://www.census.gov/developers/\n",
      "\n",
      "Dependency: to start with -- let's use the Python module: https://pypi.python.org/pypi/census/\n",
      "\n",
      "    pip install -U  census"
     ]
    },
    {
     "cell_type": "markdown",
     "metadata": {},
     "source": [
      "Things we'd like to be able to do:\n",
      "\n",
      "* calculate the population of California.\n",
      "* then calculate the population of every geographic entity going down to census block if possible.\n",
      "* for a given geographic unit, can we get the racial/ethnic breakdown?\n"
     ]
    },
    {
     "cell_type": "heading",
     "level": 1,
     "metadata": {},
     "source": [
      "Figuring out the Census Data is a Big Jigsaw Puzzle"
     ]
    },
    {
     "cell_type": "markdown",
     "metadata": {},
     "source": [
      "Some starting points:\n",
      "    \n",
      "   * [Developers - U.S. Census Bureau](http://www.census.gov/developers/)\n",
      "   * [census/README.rst at master \u00b7 sunlightlabs/census](https://github.com/sunlightlabs/census/blob/master/README.rst)\n",
      "    \n",
      "\n",
      "We focus first on the API -- and I hope we can come back to processing the bulk data from [Census FTP site](http://www2.census.gov/)"
     ]
    },
    {
     "cell_type": "heading",
     "level": 1,
     "metadata": {},
     "source": [
      "Prerequisites: Getting and activating key"
     ]
    },
    {
     "cell_type": "markdown",
     "metadata": {},
     "source": [
      "* fill out form at http://www.census.gov/developers/tos/key_request.html \n",
      "\n",
      "\"Your request for a new API key has been successfully submitted. Please check your email. In a few minutes you should receive a message with instructions on how to activate your new key.\"\n",
      "\n",
      "* click on link you'll get http://api.census.gov/data/KeySignup?validate={key}\n",
      "\n",
      "Then create a settings.py in the same directory as this notebook (or somewhere else in your Python path) to hold `settings.CENSUS_KEY`"
     ]
    },
    {
     "cell_type": "code",
     "collapsed": false,
     "input": [
      "import settings"
     ],
     "language": "python",
     "metadata": {},
     "outputs": [],
     "prompt_number": 5
    },
    {
     "cell_type": "code",
     "collapsed": false,
     "input": [
      "# This cell should run successfully if you have a string set up to represent your census key\n",
      "\n",
      "try:\n",
      "    import settings\n",
      "    assert type(settings.CENSUS_KEY) == str or type(settings.CENSUS_KEY) == unicode\n",
      "except Exception as e:\n",
      "    print \"error in importing settings to get at settings.CENSUS_KEY\", e"
     ],
     "language": "python",
     "metadata": {},
     "outputs": [],
     "prompt_number": 6
    },
    {
     "cell_type": "heading",
     "level": 1,
     "metadata": {},
     "source": [
      "states module"
     ]
    },
    {
     "cell_type": "code",
     "collapsed": false,
     "input": [
      "# let's figure out a bit about the us module, in particular, us.states\n",
      "# https://github.com/unitedstates/python-us\n",
      "\n",
      "from us import states\n",
      "\n",
      "for (i, state) in enumerate(states.STATES):\n",
      "    print i, state.name, state.fips"
     ],
     "language": "python",
     "metadata": {},
     "outputs": [
      {
       "output_type": "stream",
       "stream": "stdout",
       "text": [
        "0 Alabama 01\n",
        "1 Alaska 02\n",
        "2 Arizona 04\n",
        "3 Arkansas 05\n",
        "4 California 06\n",
        "5 Colorado 08\n",
        "6 Connecticut 09\n",
        "7 Delaware 10\n",
        "8 District of Columbia 11\n",
        "9 Florida 12\n",
        "10 Georgia 13\n",
        "11 Hawaii 15\n",
        "12 Idaho 16\n",
        "13 Illinois 17\n",
        "14 Indiana 18\n",
        "15 Iowa 19\n",
        "16 Kansas 20\n",
        "17 Kentucky 21\n",
        "18 Louisiana 22\n",
        "19 Maine 23\n",
        "20 Maryland 24\n",
        "21 Massachusetts 25\n",
        "22 Michigan 26\n",
        "23 Minnesota 27\n",
        "24 Mississippi 28\n",
        "25 Missouri 29\n",
        "26 Montana 30\n",
        "27 Nebraska 31\n",
        "28 Nevada 32\n",
        "29 New Hampshire 33\n",
        "30 New Jersey 34\n",
        "31 New Mexico 35\n",
        "32 New York 36\n",
        "33 North Carolina 37\n",
        "34 North Dakota 38\n",
        "35 Ohio 39\n",
        "36 Oklahoma 40\n",
        "37 Oregon 41\n",
        "38 Pennsylvania 42\n",
        "39 Rhode Island 44\n",
        "40 South Carolina 45\n",
        "41 South Dakota 46\n",
        "42 Tennessee 47\n",
        "43 Texas 48\n",
        "44 Utah 49\n",
        "45 Vermont 50\n",
        "46 Virginia 51\n",
        "47 Washington 53\n",
        "48 West Virginia 54\n",
        "49 Wisconsin 55\n",
        "50 Wyoming 56\n"
       ]
      }
     ],
     "prompt_number": 7
    },
    {
     "cell_type": "markdown",
     "metadata": {},
     "source": [
      "Questions to ponder: How many states are in the list? Is DC included the states list?  How to access the territories?"
     ]
    },
    {
     "cell_type": "heading",
     "level": 1,
     "metadata": {},
     "source": [
      "Formulating URL requests by hand"
     ]
    },
    {
     "cell_type": "markdown",
     "metadata": {},
     "source": [
      "It's immensely useful to be able to access the census API directly but creating a URL with the proper parameters -- as well as using the `census` package."
     ]
    },
    {
     "cell_type": "code",
     "collapsed": false,
     "input": [
      "import requests"
     ],
     "language": "python",
     "metadata": {},
     "outputs": [],
     "prompt_number": 8
    },
    {
     "cell_type": "code",
     "collapsed": false,
     "input": [
      "# get the total population of all states\n",
      "url = \"http://api.census.gov/data/2010/sf1?key={key}&get=P0010001,NAME&for=state:*\".format(key=settings.CENSUS_KEY)"
     ],
     "language": "python",
     "metadata": {},
     "outputs": [],
     "prompt_number": 9
    },
    {
     "cell_type": "code",
     "collapsed": false,
     "input": [
      "# note the structure of the response\n",
      "r = requests.get(url)"
     ],
     "language": "python",
     "metadata": {},
     "outputs": [],
     "prompt_number": 10
    },
    {
     "cell_type": "heading",
     "level": 1,
     "metadata": {},
     "source": [
      "Total Population"
     ]
    },
    {
     "cell_type": "code",
     "collapsed": false,
     "input": [
      "# FILL IN\n",
      "# drop the header record\n",
      "from itertools import islice\n",
      "# total population including PR is 312471327\n",
      "\n",
      "\n"
     ],
     "language": "python",
     "metadata": {},
     "outputs": [],
     "prompt_number": 11
    },
    {
     "cell_type": "code",
     "collapsed": false,
     "input": [
      "state_data=r.json()\n",
      "state_data=state_data[1:]\n",
      "# print state_data[0]\n",
      "total_pop_US_withPR=sum([int(i[0]) for i in state_data])\n",
      "print str(total_pop_US_withPR) + \" with PR\""
     ],
     "language": "python",
     "metadata": {},
     "outputs": [
      {
       "output_type": "stream",
       "stream": "stdout",
       "text": [
        "312471327 with PR\n"
       ]
      }
     ],
     "prompt_number": 14
    },
    {
     "cell_type": "code",
     "collapsed": false,
     "input": [
      "# FILL IN\n",
      "# exclude PR:  308745538\n",
      "total_pop_US=sum([int(i[0]) for i in state_data if i[1]!=\"Puerto Rico\"])\n",
      "print str(total_pop_US) + \" without PR\""
     ],
     "language": "python",
     "metadata": {},
     "outputs": [
      {
       "output_type": "stream",
       "stream": "stdout",
       "text": [
        "308745538 without PR\n"
       ]
      }
     ],
     "prompt_number": 15
    },
    {
     "cell_type": "code",
     "collapsed": false,
     "input": [
      "# let's now create a DataFrame from r.json()\n",
      "\n",
      "df = DataFrame(r.json()[1:], columns=r.json()[0])\n",
      "df.head()"
     ],
     "language": "python",
     "metadata": {},
     "outputs": [
      {
       "html": [
        "<div style=\"max-height:1000px;max-width:1500px;overflow:auto;\">\n",
        "<table border=\"1\" class=\"dataframe\">\n",
        "  <thead>\n",
        "    <tr style=\"text-align: right;\">\n",
        "      <th></th>\n",
        "      <th>P0010001</th>\n",
        "      <th>NAME</th>\n",
        "      <th>state</th>\n",
        "    </tr>\n",
        "  </thead>\n",
        "  <tbody>\n",
        "    <tr>\n",
        "      <th>0</th>\n",
        "      <td>  4779736</td>\n",
        "      <td>    Alabama</td>\n",
        "      <td> 01</td>\n",
        "    </tr>\n",
        "    <tr>\n",
        "      <th>1</th>\n",
        "      <td>   710231</td>\n",
        "      <td>     Alaska</td>\n",
        "      <td> 02</td>\n",
        "    </tr>\n",
        "    <tr>\n",
        "      <th>2</th>\n",
        "      <td>  6392017</td>\n",
        "      <td>    Arizona</td>\n",
        "      <td> 04</td>\n",
        "    </tr>\n",
        "    <tr>\n",
        "      <th>3</th>\n",
        "      <td>  2915918</td>\n",
        "      <td>   Arkansas</td>\n",
        "      <td> 05</td>\n",
        "    </tr>\n",
        "    <tr>\n",
        "      <th>4</th>\n",
        "      <td> 37253956</td>\n",
        "      <td> California</td>\n",
        "      <td> 06</td>\n",
        "    </tr>\n",
        "  </tbody>\n",
        "</table>\n",
        "<p>5 rows \u00d7 3 columns</p>\n",
        "</div>"
       ],
       "metadata": {},
       "output_type": "pyout",
       "prompt_number": 16,
       "text": [
        "   P0010001        NAME state\n",
        "0   4779736     Alabama    01\n",
        "1    710231      Alaska    02\n",
        "2   6392017     Arizona    04\n",
        "3   2915918    Arkansas    05\n",
        "4  37253956  California    06\n",
        "\n",
        "[5 rows x 3 columns]"
       ]
      }
     ],
     "prompt_number": 16
    },
    {
     "cell_type": "code",
     "collapsed": false,
     "input": [
      "# FILL IN\n",
      "# calculate the total population using df\n",
      "sum([int(i[0]) for i in df.get_values()])\n",
      "\n",
      "\n"
     ],
     "language": "python",
     "metadata": {},
     "outputs": [
      {
       "metadata": {},
       "output_type": "pyout",
       "prompt_number": 38,
       "text": [
        "312471327"
       ]
      }
     ],
     "prompt_number": 38
    },
    {
     "cell_type": "code",
     "collapsed": false,
     "input": [
      "# FILL IN -- now calculate the total population excluding Puerto Rico\n",
      "sum([int(i[0]) for i in df.get_values() if i[1]!=\"Puerto Rico\"])\n",
      "\n",
      "\n",
      "\n"
     ],
     "language": "python",
     "metadata": {},
     "outputs": [
      {
       "metadata": {},
       "output_type": "pyout",
       "prompt_number": 39,
       "text": [
        "308745538"
       ]
      }
     ],
     "prompt_number": 39
    },
    {
     "cell_type": "heading",
     "level": 1,
     "metadata": {},
     "source": [
      "Focusing on sf1 +2010 census"
     ]
    },
    {
     "cell_type": "markdown",
     "metadata": {},
     "source": [
      "How to map out the geographical hierachy and pull out total population figures?\n",
      "\n",
      " 1. Nation\n",
      " 1. Regions\n",
      " 1. Divisions\n",
      " 1. State\n",
      " 1. County\n",
      " 1. Census Tract\n",
      " 1. Block Group\n",
      " 1. Census Block\n",
      " \n",
      "Questions\n",
      " \n",
      "* What identifiers are used for these various geographic entities?  \n",
      "* Can we get an enumeration of each of these entities?\n",
      "* How to figure out which census tract, block group, census block one is in?\n",
      " \n"
     ]
    },
    {
     "cell_type": "heading",
     "level": 2,
     "metadata": {},
     "source": [
      "Total Population of California"
     ]
    },
    {
     "cell_type": "markdown",
     "metadata": {},
     "source": [
      "[2010 Census Summary File 1](http://www.census.gov/prod/cen2010/doc/sf1.pdf)\n",
      "\n",
      "P0010001 is found in [2010 SF1 API Variables \\[XML\\]](http://www.census.gov/developers/data/sf1.xml) = \"total population\""
     ]
    },
    {
     "cell_type": "code",
     "collapsed": false,
     "input": [
      "from settings import CENSUS_KEY\n",
      "import census\n",
      "\n",
      "c=census.Census(settings.CENSUS_KEY) \n",
      "c.sf1.get(('NAME', 'P0010001'), {'for': 'state:%s' % states.CA.fips})"
     ],
     "language": "python",
     "metadata": {},
     "outputs": [
      {
       "metadata": {},
       "output_type": "pyout",
       "prompt_number": 40,
       "text": [
        "[{u'NAME': u'California', u'P0010001': u'37253956', u'state': u'06'}]"
       ]
      }
     ],
     "prompt_number": 40
    },
    {
     "cell_type": "code",
     "collapsed": false,
     "input": [
      "\"population of California: {0}\".format(\n",
      "        int(c.sf1.get(('NAME', 'P0010001'), {'for': 'state:%s' % states.CA.fips})[0]['P0010001']))"
     ],
     "language": "python",
     "metadata": {},
     "outputs": [
      {
       "metadata": {},
       "output_type": "pyout",
       "prompt_number": 41,
       "text": [
        "'population of California: 37253956'"
       ]
      }
     ],
     "prompt_number": 41
    },
    {
     "cell_type": "markdown",
     "metadata": {},
     "source": [
      "Let's try to get at the counties of California and their populations"
     ]
    },
    {
     "cell_type": "code",
     "collapsed": false,
     "input": [
      "ca_counties = c.sf1.get(('NAME', 'P0010001'), geo={'for': 'county:*', 'in': 'state:%s' % states.CA.fips})"
     ],
     "language": "python",
     "metadata": {},
     "outputs": [],
     "prompt_number": 42
    },
    {
     "cell_type": "code",
     "collapsed": false,
     "input": [
      "# create a DataFrame, convert the 'P0010001' column\n",
      "# show by descending population\n",
      "df = DataFrame(ca_counties)\n",
      "df['P0010001'] = df['P0010001'].astype('int')\n",
      "df.sort_index(by='P0010001', ascending=False)"
     ],
     "language": "python",
     "metadata": {},
     "outputs": [
      {
       "html": [
        "<div style=\"max-height:1000px;max-width:1500px;overflow:auto;\">\n",
        "<table border=\"1\" class=\"dataframe\">\n",
        "  <thead>\n",
        "    <tr style=\"text-align: right;\">\n",
        "      <th></th>\n",
        "      <th>NAME</th>\n",
        "      <th>P0010001</th>\n",
        "      <th>county</th>\n",
        "      <th>state</th>\n",
        "    </tr>\n",
        "  </thead>\n",
        "  <tbody>\n",
        "    <tr>\n",
        "      <th>18</th>\n",
        "      <td>     Los Angeles County</td>\n",
        "      <td> 9818605</td>\n",
        "      <td> 037</td>\n",
        "      <td> 06</td>\n",
        "    </tr>\n",
        "    <tr>\n",
        "      <th>36</th>\n",
        "      <td>       San Diego County</td>\n",
        "      <td> 3095313</td>\n",
        "      <td> 073</td>\n",
        "      <td> 06</td>\n",
        "    </tr>\n",
        "    <tr>\n",
        "      <th>29</th>\n",
        "      <td>          Orange County</td>\n",
        "      <td> 3010232</td>\n",
        "      <td> 059</td>\n",
        "      <td> 06</td>\n",
        "    </tr>\n",
        "    <tr>\n",
        "      <th>32</th>\n",
        "      <td>       Riverside County</td>\n",
        "      <td> 2189641</td>\n",
        "      <td> 065</td>\n",
        "      <td> 06</td>\n",
        "    </tr>\n",
        "    <tr>\n",
        "      <th>35</th>\n",
        "      <td>  San Bernardino County</td>\n",
        "      <td> 2035210</td>\n",
        "      <td> 071</td>\n",
        "      <td> 06</td>\n",
        "    </tr>\n",
        "    <tr>\n",
        "      <th>42</th>\n",
        "      <td>     Santa Clara County</td>\n",
        "      <td> 1781642</td>\n",
        "      <td> 085</td>\n",
        "      <td> 06</td>\n",
        "    </tr>\n",
        "    <tr>\n",
        "      <th>0 </th>\n",
        "      <td>         Alameda County</td>\n",
        "      <td> 1510271</td>\n",
        "      <td> 001</td>\n",
        "      <td> 06</td>\n",
        "    </tr>\n",
        "    <tr>\n",
        "      <th>33</th>\n",
        "      <td>      Sacramento County</td>\n",
        "      <td> 1418788</td>\n",
        "      <td> 067</td>\n",
        "      <td> 06</td>\n",
        "    </tr>\n",
        "    <tr>\n",
        "      <th>6 </th>\n",
        "      <td>    Contra Costa County</td>\n",
        "      <td> 1049025</td>\n",
        "      <td> 013</td>\n",
        "      <td> 06</td>\n",
        "    </tr>\n",
        "    <tr>\n",
        "      <th>9 </th>\n",
        "      <td>          Fresno County</td>\n",
        "      <td>  930450</td>\n",
        "      <td> 019</td>\n",
        "      <td> 06</td>\n",
        "    </tr>\n",
        "    <tr>\n",
        "      <th>14</th>\n",
        "      <td>            Kern County</td>\n",
        "      <td>  839631</td>\n",
        "      <td> 029</td>\n",
        "      <td> 06</td>\n",
        "    </tr>\n",
        "    <tr>\n",
        "      <th>55</th>\n",
        "      <td>         Ventura County</td>\n",
        "      <td>  823318</td>\n",
        "      <td> 111</td>\n",
        "      <td> 06</td>\n",
        "    </tr>\n",
        "    <tr>\n",
        "      <th>37</th>\n",
        "      <td>   San Francisco County</td>\n",
        "      <td>  805235</td>\n",
        "      <td> 075</td>\n",
        "      <td> 06</td>\n",
        "    </tr>\n",
        "    <tr>\n",
        "      <th>40</th>\n",
        "      <td>       San Mateo County</td>\n",
        "      <td>  718451</td>\n",
        "      <td> 081</td>\n",
        "      <td> 06</td>\n",
        "    </tr>\n",
        "    <tr>\n",
        "      <th>38</th>\n",
        "      <td>     San Joaquin County</td>\n",
        "      <td>  685306</td>\n",
        "      <td> 077</td>\n",
        "      <td> 06</td>\n",
        "    </tr>\n",
        "    <tr>\n",
        "      <th>49</th>\n",
        "      <td>      Stanislaus County</td>\n",
        "      <td>  514453</td>\n",
        "      <td> 099</td>\n",
        "      <td> 06</td>\n",
        "    </tr>\n",
        "    <tr>\n",
        "      <th>48</th>\n",
        "      <td>          Sonoma County</td>\n",
        "      <td>  483878</td>\n",
        "      <td> 097</td>\n",
        "      <td> 06</td>\n",
        "    </tr>\n",
        "    <tr>\n",
        "      <th>53</th>\n",
        "      <td>          Tulare County</td>\n",
        "      <td>  442179</td>\n",
        "      <td> 107</td>\n",
        "      <td> 06</td>\n",
        "    </tr>\n",
        "    <tr>\n",
        "      <th>41</th>\n",
        "      <td>   Santa Barbara County</td>\n",
        "      <td>  423895</td>\n",
        "      <td> 083</td>\n",
        "      <td> 06</td>\n",
        "    </tr>\n",
        "    <tr>\n",
        "      <th>26</th>\n",
        "      <td>        Monterey County</td>\n",
        "      <td>  415057</td>\n",
        "      <td> 053</td>\n",
        "      <td> 06</td>\n",
        "    </tr>\n",
        "    <tr>\n",
        "      <th>47</th>\n",
        "      <td>          Solano County</td>\n",
        "      <td>  413344</td>\n",
        "      <td> 095</td>\n",
        "      <td> 06</td>\n",
        "    </tr>\n",
        "    <tr>\n",
        "      <th>30</th>\n",
        "      <td>          Placer County</td>\n",
        "      <td>  348432</td>\n",
        "      <td> 061</td>\n",
        "      <td> 06</td>\n",
        "    </tr>\n",
        "    <tr>\n",
        "      <th>39</th>\n",
        "      <td> San Luis Obispo County</td>\n",
        "      <td>  269637</td>\n",
        "      <td> 079</td>\n",
        "      <td> 06</td>\n",
        "    </tr>\n",
        "    <tr>\n",
        "      <th>43</th>\n",
        "      <td>      Santa Cruz County</td>\n",
        "      <td>  262382</td>\n",
        "      <td> 087</td>\n",
        "      <td> 06</td>\n",
        "    </tr>\n",
        "    <tr>\n",
        "      <th>23</th>\n",
        "      <td>          Merced County</td>\n",
        "      <td>  255793</td>\n",
        "      <td> 047</td>\n",
        "      <td> 06</td>\n",
        "    </tr>\n",
        "    <tr>\n",
        "      <th>20</th>\n",
        "      <td>           Marin County</td>\n",
        "      <td>  252409</td>\n",
        "      <td> 041</td>\n",
        "      <td> 06</td>\n",
        "    </tr>\n",
        "    <tr>\n",
        "      <th>3 </th>\n",
        "      <td>           Butte County</td>\n",
        "      <td>  220000</td>\n",
        "      <td> 007</td>\n",
        "      <td> 06</td>\n",
        "    </tr>\n",
        "    <tr>\n",
        "      <th>56</th>\n",
        "      <td>            Yolo County</td>\n",
        "      <td>  200849</td>\n",
        "      <td> 113</td>\n",
        "      <td> 06</td>\n",
        "    </tr>\n",
        "    <tr>\n",
        "      <th>8 </th>\n",
        "      <td>       El Dorado County</td>\n",
        "      <td>  181058</td>\n",
        "      <td> 017</td>\n",
        "      <td> 06</td>\n",
        "    </tr>\n",
        "    <tr>\n",
        "      <th>44</th>\n",
        "      <td>          Shasta County</td>\n",
        "      <td>  177223</td>\n",
        "      <td> 089</td>\n",
        "      <td> 06</td>\n",
        "    </tr>\n",
        "    <tr>\n",
        "      <th>12</th>\n",
        "      <td>        Imperial County</td>\n",
        "      <td>  174528</td>\n",
        "      <td> 025</td>\n",
        "      <td> 06</td>\n",
        "    </tr>\n",
        "    <tr>\n",
        "      <th>15</th>\n",
        "      <td>           Kings County</td>\n",
        "      <td>  152982</td>\n",
        "      <td> 031</td>\n",
        "      <td> 06</td>\n",
        "    </tr>\n",
        "    <tr>\n",
        "      <th>19</th>\n",
        "      <td>          Madera County</td>\n",
        "      <td>  150865</td>\n",
        "      <td> 039</td>\n",
        "      <td> 06</td>\n",
        "    </tr>\n",
        "    <tr>\n",
        "      <th>27</th>\n",
        "      <td>            Napa County</td>\n",
        "      <td>  136484</td>\n",
        "      <td> 055</td>\n",
        "      <td> 06</td>\n",
        "    </tr>\n",
        "    <tr>\n",
        "      <th>11</th>\n",
        "      <td>        Humboldt County</td>\n",
        "      <td>  134623</td>\n",
        "      <td> 023</td>\n",
        "      <td> 06</td>\n",
        "    </tr>\n",
        "    <tr>\n",
        "      <th>28</th>\n",
        "      <td>          Nevada County</td>\n",
        "      <td>   98764</td>\n",
        "      <td> 057</td>\n",
        "      <td> 06</td>\n",
        "    </tr>\n",
        "    <tr>\n",
        "      <th>50</th>\n",
        "      <td>          Sutter County</td>\n",
        "      <td>   94737</td>\n",
        "      <td> 101</td>\n",
        "      <td> 06</td>\n",
        "    </tr>\n",
        "    <tr>\n",
        "      <th>22</th>\n",
        "      <td>       Mendocino County</td>\n",
        "      <td>   87841</td>\n",
        "      <td> 045</td>\n",
        "      <td> 06</td>\n",
        "    </tr>\n",
        "    <tr>\n",
        "      <th>57</th>\n",
        "      <td>            Yuba County</td>\n",
        "      <td>   72155</td>\n",
        "      <td> 115</td>\n",
        "      <td> 06</td>\n",
        "    </tr>\n",
        "    <tr>\n",
        "      <th>16</th>\n",
        "      <td>            Lake County</td>\n",
        "      <td>   64665</td>\n",
        "      <td> 033</td>\n",
        "      <td> 06</td>\n",
        "    </tr>\n",
        "    <tr>\n",
        "      <th>51</th>\n",
        "      <td>          Tehama County</td>\n",
        "      <td>   63463</td>\n",
        "      <td> 103</td>\n",
        "      <td> 06</td>\n",
        "    </tr>\n",
        "    <tr>\n",
        "      <th>54</th>\n",
        "      <td>        Tuolumne County</td>\n",
        "      <td>   55365</td>\n",
        "      <td> 109</td>\n",
        "      <td> 06</td>\n",
        "    </tr>\n",
        "    <tr>\n",
        "      <th>34</th>\n",
        "      <td>      San Benito County</td>\n",
        "      <td>   55269</td>\n",
        "      <td> 069</td>\n",
        "      <td> 06</td>\n",
        "    </tr>\n",
        "    <tr>\n",
        "      <th>4 </th>\n",
        "      <td>       Calaveras County</td>\n",
        "      <td>   45578</td>\n",
        "      <td> 009</td>\n",
        "      <td> 06</td>\n",
        "    </tr>\n",
        "    <tr>\n",
        "      <th>46</th>\n",
        "      <td>        Siskiyou County</td>\n",
        "      <td>   44900</td>\n",
        "      <td> 093</td>\n",
        "      <td> 06</td>\n",
        "    </tr>\n",
        "    <tr>\n",
        "      <th>2 </th>\n",
        "      <td>          Amador County</td>\n",
        "      <td>   38091</td>\n",
        "      <td> 005</td>\n",
        "      <td> 06</td>\n",
        "    </tr>\n",
        "    <tr>\n",
        "      <th>17</th>\n",
        "      <td>          Lassen County</td>\n",
        "      <td>   34895</td>\n",
        "      <td> 035</td>\n",
        "      <td> 06</td>\n",
        "    </tr>\n",
        "    <tr>\n",
        "      <th>7 </th>\n",
        "      <td>       Del Norte County</td>\n",
        "      <td>   28610</td>\n",
        "      <td> 015</td>\n",
        "      <td> 06</td>\n",
        "    </tr>\n",
        "    <tr>\n",
        "      <th>10</th>\n",
        "      <td>           Glenn County</td>\n",
        "      <td>   28122</td>\n",
        "      <td> 021</td>\n",
        "      <td> 06</td>\n",
        "    </tr>\n",
        "    <tr>\n",
        "      <th>5 </th>\n",
        "      <td>          Colusa County</td>\n",
        "      <td>   21419</td>\n",
        "      <td> 011</td>\n",
        "      <td> 06</td>\n",
        "    </tr>\n",
        "    <tr>\n",
        "      <th>31</th>\n",
        "      <td>          Plumas County</td>\n",
        "      <td>   20007</td>\n",
        "      <td> 063</td>\n",
        "      <td> 06</td>\n",
        "    </tr>\n",
        "    <tr>\n",
        "      <th>13</th>\n",
        "      <td>            Inyo County</td>\n",
        "      <td>   18546</td>\n",
        "      <td> 027</td>\n",
        "      <td> 06</td>\n",
        "    </tr>\n",
        "    <tr>\n",
        "      <th>21</th>\n",
        "      <td>        Mariposa County</td>\n",
        "      <td>   18251</td>\n",
        "      <td> 043</td>\n",
        "      <td> 06</td>\n",
        "    </tr>\n",
        "    <tr>\n",
        "      <th>25</th>\n",
        "      <td>            Mono County</td>\n",
        "      <td>   14202</td>\n",
        "      <td> 051</td>\n",
        "      <td> 06</td>\n",
        "    </tr>\n",
        "    <tr>\n",
        "      <th>52</th>\n",
        "      <td>         Trinity County</td>\n",
        "      <td>   13786</td>\n",
        "      <td> 105</td>\n",
        "      <td> 06</td>\n",
        "    </tr>\n",
        "    <tr>\n",
        "      <th>24</th>\n",
        "      <td>           Modoc County</td>\n",
        "      <td>    9686</td>\n",
        "      <td> 049</td>\n",
        "      <td> 06</td>\n",
        "    </tr>\n",
        "    <tr>\n",
        "      <th>45</th>\n",
        "      <td>          Sierra County</td>\n",
        "      <td>    3240</td>\n",
        "      <td> 091</td>\n",
        "      <td> 06</td>\n",
        "    </tr>\n",
        "    <tr>\n",
        "      <th>1 </th>\n",
        "      <td>          Alpine County</td>\n",
        "      <td>    1175</td>\n",
        "      <td> 003</td>\n",
        "      <td> 06</td>\n",
        "    </tr>\n",
        "  </tbody>\n",
        "</table>\n",
        "<p>58 rows \u00d7 4 columns</p>\n",
        "</div>"
       ],
       "metadata": {},
       "output_type": "pyout",
       "prompt_number": 43,
       "text": [
        "                      NAME  P0010001 county state\n",
        "18      Los Angeles County   9818605    037    06\n",
        "36        San Diego County   3095313    073    06\n",
        "29           Orange County   3010232    059    06\n",
        "32        Riverside County   2189641    065    06\n",
        "35   San Bernardino County   2035210    071    06\n",
        "42      Santa Clara County   1781642    085    06\n",
        "0           Alameda County   1510271    001    06\n",
        "33       Sacramento County   1418788    067    06\n",
        "6      Contra Costa County   1049025    013    06\n",
        "9            Fresno County    930450    019    06\n",
        "14             Kern County    839631    029    06\n",
        "55          Ventura County    823318    111    06\n",
        "37    San Francisco County    805235    075    06\n",
        "40        San Mateo County    718451    081    06\n",
        "38      San Joaquin County    685306    077    06\n",
        "49       Stanislaus County    514453    099    06\n",
        "48           Sonoma County    483878    097    06\n",
        "53           Tulare County    442179    107    06\n",
        "41    Santa Barbara County    423895    083    06\n",
        "26         Monterey County    415057    053    06\n",
        "47           Solano County    413344    095    06\n",
        "30           Placer County    348432    061    06\n",
        "39  San Luis Obispo County    269637    079    06\n",
        "43       Santa Cruz County    262382    087    06\n",
        "23           Merced County    255793    047    06\n",
        "20            Marin County    252409    041    06\n",
        "3             Butte County    220000    007    06\n",
        "56             Yolo County    200849    113    06\n",
        "8         El Dorado County    181058    017    06\n",
        "44           Shasta County    177223    089    06\n",
        "12         Imperial County    174528    025    06\n",
        "15            Kings County    152982    031    06\n",
        "19           Madera County    150865    039    06\n",
        "27             Napa County    136484    055    06\n",
        "11         Humboldt County    134623    023    06\n",
        "28           Nevada County     98764    057    06\n",
        "50           Sutter County     94737    101    06\n",
        "22        Mendocino County     87841    045    06\n",
        "57             Yuba County     72155    115    06\n",
        "16             Lake County     64665    033    06\n",
        "51           Tehama County     63463    103    06\n",
        "54         Tuolumne County     55365    109    06\n",
        "34       San Benito County     55269    069    06\n",
        "4         Calaveras County     45578    009    06\n",
        "46         Siskiyou County     44900    093    06\n",
        "2            Amador County     38091    005    06\n",
        "17           Lassen County     34895    035    06\n",
        "7         Del Norte County     28610    015    06\n",
        "10            Glenn County     28122    021    06\n",
        "5            Colusa County     21419    011    06\n",
        "31           Plumas County     20007    063    06\n",
        "13             Inyo County     18546    027    06\n",
        "21         Mariposa County     18251    043    06\n",
        "25             Mono County     14202    051    06\n",
        "52          Trinity County     13786    105    06\n",
        "24            Modoc County      9686    049    06\n",
        "45           Sierra County      3240    091    06\n",
        "1            Alpine County      1175    003    06\n",
        "\n",
        "[58 rows x 4 columns]"
       ]
      }
     ],
     "prompt_number": 43
    },
    {
     "cell_type": "code",
     "collapsed": false,
     "input": [
      "#http://stackoverflow.com/a/13130357/7782\n",
      "count,division = np.histogram(df['P0010001'])\n",
      "df['P0010001'].hist(bins=division)"
     ],
     "language": "python",
     "metadata": {},
     "outputs": [
      {
       "metadata": {},
       "output_type": "pyout",
       "prompt_number": 44,
       "text": [
        "<matplotlib.axes.AxesSubplot at 0x109a4ce50>"
       ]
      },
      {
       "metadata": {},
       "output_type": "display_data",
       "png": "[encoded data removed]",
       "text": [
        "<matplotlib.figure.Figure at 0x109a4c950>"
       ]
      }
     ],
     "prompt_number": 44
    },
    {
     "cell_type": "code",
     "collapsed": false,
     "input": [],
     "language": "python",
     "metadata": {},
     "outputs": []
    }
   ],
   "metadata": {}
  }
 ]
}