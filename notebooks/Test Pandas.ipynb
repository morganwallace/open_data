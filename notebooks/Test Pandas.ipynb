{
 "metadata": {
  "name": ""
 },
 "nbformat": 3,
 "nbformat_minor": 0,
 "worksheets": [
  {
   "cells": [
    {
     "cell_type": "markdown",
     "metadata": {},
     "source": [
      "#10 Minute Panda Training\n",
      "from http://pandas.pydata.org/pandas-docs/dev/10min.html"
     ]
    },
    {
     "cell_type": "markdown",
     "metadata": {},
     "source": [
      "###Setup"
     ]
    },
    {
     "cell_type": "code",
     "collapsed": false,
     "input": [
      "import pandas as pd\n",
      "import numpy as np\n",
      "import matplotlib.pyplot as plt"
     ],
     "language": "python",
     "metadata": {},
     "outputs": [],
     "prompt_number": 45
    },
    {
     "cell_type": "markdown",
     "metadata": {},
     "source": [
      "###Generating data and Pandas DataFrame with random values"
     ]
    },
    {
     "cell_type": "code",
     "collapsed": false,
     "input": [
      "s = pd.Series([1,3,5,np.nan,6,8])\n",
      "dates = pd.date_range('20130101',periods=6)\n",
      "df = pd.DataFrame(np.random.randn(6,5),index=dates,columns=list('ABCDE'))"
     ],
     "language": "python",
     "metadata": {},
     "outputs": [],
     "prompt_number": 63
    },
    {
     "cell_type": "code",
     "collapsed": false,
     "input": [
      "np.random.randn(6,4)\n"
     ],
     "language": "python",
     "metadata": {},
     "outputs": [
      {
       "metadata": {},
       "output_type": "pyout",
       "prompt_number": 62,
       "text": [
        "array([[-0.72141978,  1.75647938, -0.84297956, -1.87490759],\n",
        "       [ 0.61284124,  0.88152499,  0.23692212, -0.46196475],\n",
        "       [ 0.49427992,  0.83530742, -1.06899914, -0.40358203],\n",
        "       [ 1.26489497, -1.06422262, -1.55284967,  1.16017867],\n",
        "       [-0.2598227 ,  0.86774058, -0.64080989,  0.75744095],\n",
        "       [-0.72803805,  0.72472441,  0.81294184,  0.24446359]])"
       ]
      }
     ],
     "prompt_number": 62
    },
    {
     "cell_type": "code",
     "collapsed": false,
     "input": [
      "df2 = pd.DataFrame({ 'A' : 1.,\n",
      "                    'B' : pd.Timestamp('20130102'),\n",
      "                    'C' : pd.Series(1,index=list(range(4)),dtype='float32'),\n",
      "                    'D' : np.array([3] * 4,dtype='int32'),\n",
      "                    'E' : 'foo' })"
     ],
     "language": "python",
     "metadata": {},
     "outputs": [],
     "prompt_number": 30
    },
    {
     "cell_type": "code",
     "collapsed": false,
     "input": [
      "df2"
     ],
     "language": "python",
     "metadata": {},
     "outputs": [
      {
       "html": [
        "<div style=\"max-height:1000px;max-width:1500px;overflow:auto;\">\n",
        "<table border=\"1\" class=\"dataframe\">\n",
        "  <thead>\n",
        "    <tr style=\"text-align: right;\">\n",
        "      <th></th>\n",
        "      <th>A</th>\n",
        "      <th>B</th>\n",
        "      <th>C</th>\n",
        "      <th>D</th>\n",
        "      <th>E</th>\n",
        "    </tr>\n",
        "  </thead>\n",
        "  <tbody>\n",
        "    <tr>\n",
        "      <th>0</th>\n",
        "      <td> 1</td>\n",
        "      <td>2013-01-02 00:00:00</td>\n",
        "      <td> 1</td>\n",
        "      <td> 3</td>\n",
        "      <td> foo</td>\n",
        "    </tr>\n",
        "    <tr>\n",
        "      <th>1</th>\n",
        "      <td> 1</td>\n",
        "      <td>2013-01-02 00:00:00</td>\n",
        "      <td> 1</td>\n",
        "      <td> 3</td>\n",
        "      <td> foo</td>\n",
        "    </tr>\n",
        "    <tr>\n",
        "      <th>2</th>\n",
        "      <td> 1</td>\n",
        "      <td>2013-01-02 00:00:00</td>\n",
        "      <td> 1</td>\n",
        "      <td> 3</td>\n",
        "      <td> foo</td>\n",
        "    </tr>\n",
        "    <tr>\n",
        "      <th>3</th>\n",
        "      <td> 1</td>\n",
        "      <td>2013-01-02 00:00:00</td>\n",
        "      <td> 1</td>\n",
        "      <td> 3</td>\n",
        "      <td> foo</td>\n",
        "    </tr>\n",
        "  </tbody>\n",
        "</table>\n",
        "<p>4 rows \u00d7 5 columns</p>\n",
        "</div>"
       ],
       "metadata": {},
       "output_type": "pyout",
       "prompt_number": 31,
       "text": [
        "   A                   B  C  D    E\n",
        "0  1 2013-01-02 00:00:00  1  3  foo\n",
        "1  1 2013-01-02 00:00:00  1  3  foo\n",
        "2  1 2013-01-02 00:00:00  1  3  foo\n",
        "3  1 2013-01-02 00:00:00  1  3  foo\n",
        "\n",
        "[4 rows x 5 columns]"
       ]
      }
     ],
     "prompt_number": 31
    },
    {
     "cell_type": "code",
     "collapsed": false,
     "input": [
      "#I guess this shows where the data types are.\n",
      "df2.dtypes"
     ],
     "language": "python",
     "metadata": {},
     "outputs": [
      {
       "metadata": {},
       "output_type": "pyout",
       "prompt_number": 32,
       "text": [
        "A           float64\n",
        "B    datetime64[ns]\n",
        "C           float32\n",
        "D             int32\n",
        "E            object\n",
        "dtype: object"
       ]
      }
     ],
     "prompt_number": 32
    },
    {
     "cell_type": "code",
     "collapsed": false,
     "input": [
      "df.head()"
     ],
     "language": "python",
     "metadata": {},
     "outputs": [
      {
       "html": [
        "<div style=\"max-height:1000px;max-width:1500px;overflow:auto;\">\n",
        "<table border=\"1\" class=\"dataframe\">\n",
        "  <thead>\n",
        "    <tr style=\"text-align: right;\">\n",
        "      <th></th>\n",
        "      <th>A</th>\n",
        "      <th>B</th>\n",
        "      <th>C</th>\n",
        "      <th>D</th>\n",
        "      <th>E</th>\n",
        "    </tr>\n",
        "  </thead>\n",
        "  <tbody>\n",
        "    <tr>\n",
        "      <th>2013-01-01</th>\n",
        "      <td> 1.100527</td>\n",
        "      <td>-0.381699</td>\n",
        "      <td>-0.451535</td>\n",
        "      <td> 0.713584</td>\n",
        "      <td>-1.293972</td>\n",
        "    </tr>\n",
        "    <tr>\n",
        "      <th>2013-01-02</th>\n",
        "      <td>-0.391748</td>\n",
        "      <td>-1.480627</td>\n",
        "      <td> 0.590120</td>\n",
        "      <td>-0.640268</td>\n",
        "      <td>-0.440093</td>\n",
        "    </tr>\n",
        "    <tr>\n",
        "      <th>2013-01-03</th>\n",
        "      <td> 0.661144</td>\n",
        "      <td> 0.361374</td>\n",
        "      <td>-0.882714</td>\n",
        "      <td> 1.120732</td>\n",
        "      <td> 0.276473</td>\n",
        "    </tr>\n",
        "    <tr>\n",
        "      <th>2013-01-04</th>\n",
        "      <td>-1.130035</td>\n",
        "      <td>-0.168796</td>\n",
        "      <td> 0.072885</td>\n",
        "      <td> 0.875275</td>\n",
        "      <td> 0.575093</td>\n",
        "    </tr>\n",
        "    <tr>\n",
        "      <th>2013-01-05</th>\n",
        "      <td> 2.405335</td>\n",
        "      <td>-0.583955</td>\n",
        "      <td>-0.690658</td>\n",
        "      <td>-2.137181</td>\n",
        "      <td>-1.716164</td>\n",
        "    </tr>\n",
        "  </tbody>\n",
        "</table>\n",
        "<p>5 rows \u00d7 5 columns</p>\n",
        "</div>"
       ],
       "metadata": {},
       "output_type": "pyout",
       "prompt_number": 64,
       "text": [
        "                   A         B         C         D         E\n",
        "2013-01-01  1.100527 -0.381699 -0.451535  0.713584 -1.293972\n",
        "2013-01-02 -0.391748 -1.480627  0.590120 -0.640268 -0.440093\n",
        "2013-01-03  0.661144  0.361374 -0.882714  1.120732  0.276473\n",
        "2013-01-04 -1.130035 -0.168796  0.072885  0.875275  0.575093\n",
        "2013-01-05  2.405335 -0.583955 -0.690658 -2.137181 -1.716164\n",
        "\n",
        "[5 rows x 5 columns]"
       ]
      }
     ],
     "prompt_number": 64
    },
    {
     "cell_type": "code",
     "collapsed": false,
     "input": [
      "df.index"
     ],
     "language": "python",
     "metadata": {},
     "outputs": [
      {
       "metadata": {},
       "output_type": "pyout",
       "prompt_number": 37,
       "text": [
        "<class 'pandas.tseries.index.DatetimeIndex'>\n",
        "[2013-01-01 00:00:00, ..., 2013-01-06 00:00:00]\n",
        "Length: 6, Freq: D, Timezone: None"
       ]
      }
     ],
     "prompt_number": 37
    },
    {
     "cell_type": "code",
     "collapsed": false,
     "input": [
      "df.values[0][0]"
     ],
     "language": "python",
     "metadata": {},
     "outputs": [
      {
       "metadata": {},
       "output_type": "pyout",
       "prompt_number": 41,
       "text": [
        "0.26366085386647958"
       ]
      }
     ],
     "prompt_number": 41
    },
    {
     "cell_type": "code",
     "collapsed": false,
     "input": [
      "df.T"
     ],
     "language": "python",
     "metadata": {},
     "outputs": [
      {
       "html": [
        "<div style=\"max-height:1000px;max-width:1500px;overflow:auto;\">\n",
        "<table border=\"1\" class=\"dataframe\">\n",
        "  <thead>\n",
        "    <tr style=\"text-align: right;\">\n",
        "      <th></th>\n",
        "      <th>2013-01-01 00:00:00</th>\n",
        "      <th>2013-01-02 00:00:00</th>\n",
        "      <th>2013-01-03 00:00:00</th>\n",
        "      <th>2013-01-04 00:00:00</th>\n",
        "      <th>2013-01-05 00:00:00</th>\n",
        "      <th>2013-01-06 00:00:00</th>\n",
        "    </tr>\n",
        "  </thead>\n",
        "  <tbody>\n",
        "    <tr>\n",
        "      <th>A</th>\n",
        "      <td> 0.263661</td>\n",
        "      <td>-1.148435</td>\n",
        "      <td> 1.753792</td>\n",
        "      <td> 0.771710</td>\n",
        "      <td>-0.456610</td>\n",
        "      <td>-0.375286</td>\n",
        "    </tr>\n",
        "    <tr>\n",
        "      <th>B</th>\n",
        "      <td> 1.263971</td>\n",
        "      <td>-0.750341</td>\n",
        "      <td>-0.436259</td>\n",
        "      <td> 1.207909</td>\n",
        "      <td> 0.944913</td>\n",
        "      <td>-2.548341</td>\n",
        "    </tr>\n",
        "    <tr>\n",
        "      <th>C</th>\n",
        "      <td>-0.039726</td>\n",
        "      <td>-0.228849</td>\n",
        "      <td> 0.566032</td>\n",
        "      <td> 1.505498</td>\n",
        "      <td> 0.573583</td>\n",
        "      <td> 0.647772</td>\n",
        "    </tr>\n",
        "    <tr>\n",
        "      <th>D</th>\n",
        "      <td> 0.352130</td>\n",
        "      <td> 0.991504</td>\n",
        "      <td> 0.392104</td>\n",
        "      <td>-1.446948</td>\n",
        "      <td>-1.511025</td>\n",
        "      <td> 2.033515</td>\n",
        "    </tr>\n",
        "  </tbody>\n",
        "</table>\n",
        "<p>4 rows \u00d7 6 columns</p>\n",
        "</div>"
       ],
       "metadata": {},
       "output_type": "pyout",
       "prompt_number": 42,
       "text": [
        "   2013-01-01  2013-01-02  2013-01-03  2013-01-04  2013-01-05  2013-01-06\n",
        "A    0.263661   -1.148435    1.753792    0.771710   -0.456610   -0.375286\n",
        "B    1.263971   -0.750341   -0.436259    1.207909    0.944913   -2.548341\n",
        "C   -0.039726   -0.228849    0.566032    1.505498    0.573583    0.647772\n",
        "D    0.352130    0.991504    0.392104   -1.446948   -1.511025    2.033515\n",
        "\n",
        "[4 rows x 6 columns]"
       ]
      }
     ],
     "prompt_number": 42
    },
    {
     "cell_type": "code",
     "collapsed": false,
     "input": [
      "df.sort(columns='B', ascending=False)"
     ],
     "language": "python",
     "metadata": {},
     "outputs": [
      {
       "html": [
        "<div style=\"max-height:1000px;max-width:1500px;overflow:auto;\">\n",
        "<table border=\"1\" class=\"dataframe\">\n",
        "  <thead>\n",
        "    <tr style=\"text-align: right;\">\n",
        "      <th></th>\n",
        "      <th>A</th>\n",
        "      <th>B</th>\n",
        "      <th>C</th>\n",
        "      <th>D</th>\n",
        "    </tr>\n",
        "  </thead>\n",
        "  <tbody>\n",
        "    <tr>\n",
        "      <th>2013-01-01</th>\n",
        "      <td> 0.263661</td>\n",
        "      <td> 1.263971</td>\n",
        "      <td>-0.039726</td>\n",
        "      <td> 0.352130</td>\n",
        "    </tr>\n",
        "    <tr>\n",
        "      <th>2013-01-04</th>\n",
        "      <td> 0.771710</td>\n",
        "      <td> 1.207909</td>\n",
        "      <td> 1.505498</td>\n",
        "      <td>-1.446948</td>\n",
        "    </tr>\n",
        "    <tr>\n",
        "      <th>2013-01-05</th>\n",
        "      <td>-0.456610</td>\n",
        "      <td> 0.944913</td>\n",
        "      <td> 0.573583</td>\n",
        "      <td>-1.511025</td>\n",
        "    </tr>\n",
        "    <tr>\n",
        "      <th>2013-01-03</th>\n",
        "      <td> 1.753792</td>\n",
        "      <td>-0.436259</td>\n",
        "      <td> 0.566032</td>\n",
        "      <td> 0.392104</td>\n",
        "    </tr>\n",
        "    <tr>\n",
        "      <th>2013-01-02</th>\n",
        "      <td>-1.148435</td>\n",
        "      <td>-0.750341</td>\n",
        "      <td>-0.228849</td>\n",
        "      <td> 0.991504</td>\n",
        "    </tr>\n",
        "    <tr>\n",
        "      <th>2013-01-06</th>\n",
        "      <td>-0.375286</td>\n",
        "      <td>-2.548341</td>\n",
        "      <td> 0.647772</td>\n",
        "      <td> 2.033515</td>\n",
        "    </tr>\n",
        "  </tbody>\n",
        "</table>\n",
        "<p>6 rows \u00d7 4 columns</p>\n",
        "</div>"
       ],
       "metadata": {},
       "output_type": "pyout",
       "prompt_number": 44,
       "text": [
        "                   A         B         C         D\n",
        "2013-01-01  0.263661  1.263971 -0.039726  0.352130\n",
        "2013-01-04  0.771710  1.207909  1.505498 -1.446948\n",
        "2013-01-05 -0.456610  0.944913  0.573583 -1.511025\n",
        "2013-01-03  1.753792 -0.436259  0.566032  0.392104\n",
        "2013-01-02 -1.148435 -0.750341 -0.228849  0.991504\n",
        "2013-01-06 -0.375286 -2.548341  0.647772  2.033515\n",
        "\n",
        "[6 rows x 4 columns]"
       ]
      }
     ],
     "prompt_number": 44
    },
    {
     "cell_type": "code",
     "collapsed": false,
     "input": [
      "df['A']"
     ],
     "language": "python",
     "metadata": {},
     "outputs": [
      {
       "metadata": {},
       "output_type": "pyout",
       "prompt_number": 48,
       "text": [
        "2013-01-01    0.263661\n",
        "2013-01-02   -1.148435\n",
        "2013-01-03    1.753792\n",
        "2013-01-04    0.771710\n",
        "2013-01-05   -0.456610\n",
        "2013-01-06   -0.375286\n",
        "Freq: D, Name: A, dtype: float64"
       ]
      }
     ],
     "prompt_number": 48
    },
    {
     "cell_type": "code",
     "collapsed": false,
     "input": [
      "df.loc[:,['A','B']]"
     ],
     "language": "python",
     "metadata": {},
     "outputs": [
      {
       "html": [
        "<div style=\"max-height:1000px;max-width:1500px;overflow:auto;\">\n",
        "<table border=\"1\" class=\"dataframe\">\n",
        "  <thead>\n",
        "    <tr style=\"text-align: right;\">\n",
        "      <th></th>\n",
        "      <th>A</th>\n",
        "      <th>B</th>\n",
        "    </tr>\n",
        "  </thead>\n",
        "  <tbody>\n",
        "    <tr>\n",
        "      <th>2013-01-01</th>\n",
        "      <td> 0.263661</td>\n",
        "      <td> 1.263971</td>\n",
        "    </tr>\n",
        "    <tr>\n",
        "      <th>2013-01-02</th>\n",
        "      <td>-1.148435</td>\n",
        "      <td>-0.750341</td>\n",
        "    </tr>\n",
        "    <tr>\n",
        "      <th>2013-01-03</th>\n",
        "      <td> 1.753792</td>\n",
        "      <td>-0.436259</td>\n",
        "    </tr>\n",
        "    <tr>\n",
        "      <th>2013-01-04</th>\n",
        "      <td> 0.771710</td>\n",
        "      <td> 1.207909</td>\n",
        "    </tr>\n",
        "    <tr>\n",
        "      <th>2013-01-05</th>\n",
        "      <td>-0.456610</td>\n",
        "      <td> 0.944913</td>\n",
        "    </tr>\n",
        "    <tr>\n",
        "      <th>2013-01-06</th>\n",
        "      <td>-0.375286</td>\n",
        "      <td>-2.548341</td>\n",
        "    </tr>\n",
        "  </tbody>\n",
        "</table>\n",
        "<p>6 rows \u00d7 2 columns</p>\n",
        "</div>"
       ],
       "metadata": {},
       "output_type": "pyout",
       "prompt_number": 51,
       "text": [
        "                   A         B\n",
        "2013-01-01  0.263661  1.263971\n",
        "2013-01-02 -1.148435 -0.750341\n",
        "2013-01-03  1.753792 -0.436259\n",
        "2013-01-04  0.771710  1.207909\n",
        "2013-01-05 -0.456610  0.944913\n",
        "2013-01-06 -0.375286 -2.548341\n",
        "\n",
        "[6 rows x 2 columns]"
       ]
      }
     ],
     "prompt_number": 51
    },
    {
     "cell_type": "code",
     "collapsed": false,
     "input": [
      "df.at[dates[0],'A']"
     ],
     "language": "python",
     "metadata": {},
     "outputs": [
      {
       "metadata": {},
       "output_type": "pyout",
       "prompt_number": 52,
       "text": [
        "0.26366085386647958"
       ]
      }
     ],
     "prompt_number": 52
    },
    {
     "cell_type": "code",
     "collapsed": false,
     "input": [
      "df.iloc[3:5,0:2]\n"
     ],
     "language": "python",
     "metadata": {},
     "outputs": [
      {
       "html": [
        "<div style=\"max-height:1000px;max-width:1500px;overflow:auto;\">\n",
        "<table border=\"1\" class=\"dataframe\">\n",
        "  <thead>\n",
        "    <tr style=\"text-align: right;\">\n",
        "      <th></th>\n",
        "      <th>A</th>\n",
        "      <th>B</th>\n",
        "    </tr>\n",
        "  </thead>\n",
        "  <tbody>\n",
        "    <tr>\n",
        "      <th>2013-01-04</th>\n",
        "      <td> 0.77171</td>\n",
        "      <td> 1.207909</td>\n",
        "    </tr>\n",
        "    <tr>\n",
        "      <th>2013-01-05</th>\n",
        "      <td>-0.45661</td>\n",
        "      <td> 0.944913</td>\n",
        "    </tr>\n",
        "  </tbody>\n",
        "</table>\n",
        "<p>2 rows \u00d7 2 columns</p>\n",
        "</div>"
       ],
       "metadata": {},
       "output_type": "pyout",
       "prompt_number": 53,
       "text": [
        "                  A         B\n",
        "2013-01-04  0.77171  1.207909\n",
        "2013-01-05 -0.45661  0.944913\n",
        "\n",
        "[2 rows x 2 columns]"
       ]
      }
     ],
     "prompt_number": 53
    },
    {
     "cell_type": "code",
     "collapsed": false,
     "input": [],
     "language": "python",
     "metadata": {},
     "outputs": [
      {
       "html": [
        "<div style=\"max-height:1000px;max-width:1500px;overflow:auto;\">\n",
        "<table border=\"1\" class=\"dataframe\">\n",
        "  <thead>\n",
        "    <tr style=\"text-align: right;\">\n",
        "      <th></th>\n",
        "      <th>A</th>\n",
        "      <th>B</th>\n",
        "      <th>C</th>\n",
        "      <th>D</th>\n",
        "    </tr>\n",
        "  </thead>\n",
        "  <tbody>\n",
        "    <tr>\n",
        "      <th>2013-01-01</th>\n",
        "      <td> 0.263661</td>\n",
        "      <td> 1.263971</td>\n",
        "      <td>-0.039726</td>\n",
        "      <td> 0.352130</td>\n",
        "    </tr>\n",
        "    <tr>\n",
        "      <th>2013-01-02</th>\n",
        "      <td>-1.148435</td>\n",
        "      <td>-0.750341</td>\n",
        "      <td>-0.228849</td>\n",
        "      <td> 0.991504</td>\n",
        "    </tr>\n",
        "    <tr>\n",
        "      <th>2013-01-03</th>\n",
        "      <td> 1.753792</td>\n",
        "      <td>-0.436259</td>\n",
        "      <td> 0.566032</td>\n",
        "      <td> 0.392104</td>\n",
        "    </tr>\n",
        "    <tr>\n",
        "      <th>2013-01-04</th>\n",
        "      <td> 0.771710</td>\n",
        "      <td> 1.207909</td>\n",
        "      <td> 1.505498</td>\n",
        "      <td>-1.446948</td>\n",
        "    </tr>\n",
        "    <tr>\n",
        "      <th>2013-01-05</th>\n",
        "      <td>-0.456610</td>\n",
        "      <td> 0.944913</td>\n",
        "      <td> 0.573583</td>\n",
        "      <td>-1.511025</td>\n",
        "    </tr>\n",
        "    <tr>\n",
        "      <th>2013-01-06</th>\n",
        "      <td>-0.375286</td>\n",
        "      <td>-2.548341</td>\n",
        "      <td> 0.647772</td>\n",
        "      <td> 2.033515</td>\n",
        "    </tr>\n",
        "  </tbody>\n",
        "</table>\n",
        "<p>6 rows \u00d7 4 columns</p>\n",
        "</div>"
       ],
       "metadata": {},
       "output_type": "pyout",
       "prompt_number": 54,
       "text": [
        "                   A         B         C         D\n",
        "2013-01-01  0.263661  1.263971 -0.039726  0.352130\n",
        "2013-01-02 -1.148435 -0.750341 -0.228849  0.991504\n",
        "2013-01-03  1.753792 -0.436259  0.566032  0.392104\n",
        "2013-01-04  0.771710  1.207909  1.505498 -1.446948\n",
        "2013-01-05 -0.456610  0.944913  0.573583 -1.511025\n",
        "2013-01-06 -0.375286 -2.548341  0.647772  2.033515\n",
        "\n",
        "[6 rows x 4 columns]"
       ]
      }
     ],
     "prompt_number": 54
    },
    {
     "cell_type": "code",
     "collapsed": false,
     "input": [
      "df.iloc[1:3,:]"
     ],
     "language": "python",
     "metadata": {},
     "outputs": [
      {
       "html": [
        "<div style=\"max-height:1000px;max-width:1500px;overflow:auto;\">\n",
        "<table border=\"1\" class=\"dataframe\">\n",
        "  <thead>\n",
        "    <tr style=\"text-align: right;\">\n",
        "      <th></th>\n",
        "      <th>A</th>\n",
        "      <th>B</th>\n",
        "      <th>C</th>\n",
        "      <th>D</th>\n",
        "    </tr>\n",
        "  </thead>\n",
        "  <tbody>\n",
        "    <tr>\n",
        "      <th>2013-01-02</th>\n",
        "      <td>-1.148435</td>\n",
        "      <td>-0.750341</td>\n",
        "      <td>-0.228849</td>\n",
        "      <td> 0.991504</td>\n",
        "    </tr>\n",
        "    <tr>\n",
        "      <th>2013-01-03</th>\n",
        "      <td> 1.753792</td>\n",
        "      <td>-0.436259</td>\n",
        "      <td> 0.566032</td>\n",
        "      <td> 0.392104</td>\n",
        "    </tr>\n",
        "  </tbody>\n",
        "</table>\n",
        "<p>2 rows \u00d7 4 columns</p>\n",
        "</div>"
       ],
       "metadata": {},
       "output_type": "pyout",
       "prompt_number": 57,
       "text": [
        "                   A         B         C         D\n",
        "2013-01-02 -1.148435 -0.750341 -0.228849  0.991504\n",
        "2013-01-03  1.753792 -0.436259  0.566032  0.392104\n",
        "\n",
        "[2 rows x 4 columns]"
       ]
      }
     ],
     "prompt_number": 57
    },
    {
     "cell_type": "code",
     "collapsed": false,
     "input": [
      "#most efficient\n",
      "df.iat[1,1]"
     ],
     "language": "python",
     "metadata": {},
     "outputs": [
      {
       "metadata": {},
       "output_type": "pyout",
       "prompt_number": 58,
       "text": [
        "-0.75034058387714442"
       ]
      }
     ],
     "prompt_number": 58
    },
    {
     "cell_type": "code",
     "collapsed": false,
     "input": [],
     "language": "python",
     "metadata": {},
     "outputs": []
    }
   ],
   "metadata": {}
  }
 ]
}